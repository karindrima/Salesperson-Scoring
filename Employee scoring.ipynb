{
 "cells": [
  {
   "cell_type": "code",
   "execution_count": 19,
   "id": "384126e2",
   "metadata": {},
   "outputs": [],
   "source": [
    "import pandas as pd, datetime\n",
    "import numpy as np\n",
    "import glob\n",
    "import os\n",
    "import seaborn as sns\n",
    "import sys, getopt"
   ]
  },
  {
   "cell_type": "code",
   "execution_count": 6,
   "id": "42b13818",
   "metadata": {},
   "outputs": [],
   "source": [
    "emp = pd.read_csv(r'D:\\data\\salesperson\\salesperson.csv')"
   ]
  },
  {
   "cell_type": "code",
   "execution_count": 142,
   "id": "32515f98",
   "metadata": {},
   "outputs": [
    {
     "data": {
      "text/html": [
       "<div>\n",
       "<style scoped>\n",
       "    .dataframe tbody tr th:only-of-type {\n",
       "        vertical-align: middle;\n",
       "    }\n",
       "\n",
       "    .dataframe tbody tr th {\n",
       "        vertical-align: top;\n",
       "    }\n",
       "\n",
       "    .dataframe thead th {\n",
       "        text-align: right;\n",
       "    }\n",
       "</style>\n",
       "<table border=\"1\" class=\"dataframe\">\n",
       "  <thead>\n",
       "    <tr style=\"text-align: right;\">\n",
       "      <th></th>\n",
       "      <th>Salesman</th>\n",
       "      <th>Salesman No</th>\n",
       "      <th>Is Void</th>\n",
       "      <th>POS</th>\n",
       "      <th>Barcode</th>\n",
       "      <th>Store</th>\n",
       "      <th>Division</th>\n",
       "      <th>Section</th>\n",
       "      <th>Department</th>\n",
       "      <th>Sale Qty</th>\n",
       "      <th>Net Amt</th>\n",
       "      <th>Rate</th>\n",
       "      <th>Bill Date</th>\n",
       "    </tr>\n",
       "  </thead>\n",
       "  <tbody>\n",
       "    <tr>\n",
       "      <th>0</th>\n",
       "      <td>NITESH KUMAR SINGH</td>\n",
       "      <td>36.0</td>\n",
       "      <td>No</td>\n",
       "      <td>CMHOSTR03-999288</td>\n",
       "      <td>C802999</td>\n",
       "      <td>Hatibagan Stockpoint</td>\n",
       "      <td>Accoessories</td>\n",
       "      <td>Gift &amp; Novelties</td>\n",
       "      <td>Baby Accessory</td>\n",
       "      <td>1.0</td>\n",
       "      <td>55.0</td>\n",
       "      <td>34.96</td>\n",
       "      <td>01-11-2023</td>\n",
       "    </tr>\n",
       "    <tr>\n",
       "      <th>1</th>\n",
       "      <td>LALIT AGARWAL (PS)</td>\n",
       "      <td>73.0</td>\n",
       "      <td>No</td>\n",
       "      <td>CMHOSTR04-462155</td>\n",
       "      <td>C793771</td>\n",
       "      <td>Garihat Stock Point</td>\n",
       "      <td>Accoessories</td>\n",
       "      <td>Gift &amp; Novelties</td>\n",
       "      <td>Baby Accessory</td>\n",
       "      <td>1.0</td>\n",
       "      <td>99.0</td>\n",
       "      <td>48.66</td>\n",
       "      <td>01-11-2023</td>\n",
       "    </tr>\n",
       "    <tr>\n",
       "      <th>2</th>\n",
       "      <td>PUJA PASHI</td>\n",
       "      <td>34.0</td>\n",
       "      <td>No</td>\n",
       "      <td>CMHOSTR03-999258</td>\n",
       "      <td>C802984</td>\n",
       "      <td>Hatibagan Stockpoint</td>\n",
       "      <td>Accoessories</td>\n",
       "      <td>Gift &amp; Novelties</td>\n",
       "      <td>Baby Accessory</td>\n",
       "      <td>2.0</td>\n",
       "      <td>398.0</td>\n",
       "      <td>103.06</td>\n",
       "      <td>01-11-2023</td>\n",
       "    </tr>\n",
       "    <tr>\n",
       "      <th>3</th>\n",
       "      <td>BAPI TARAFDER (PS)</td>\n",
       "      <td>14.0</td>\n",
       "      <td>No</td>\n",
       "      <td>CMHOSTR04-462175</td>\n",
       "      <td>C766996</td>\n",
       "      <td>Garihat Stock Point</td>\n",
       "      <td>Accoessories</td>\n",
       "      <td>Gift &amp; Novelties</td>\n",
       "      <td>Books</td>\n",
       "      <td>1.0</td>\n",
       "      <td>150.0</td>\n",
       "      <td>112.50</td>\n",
       "      <td>01-11-2023</td>\n",
       "    </tr>\n",
       "    <tr>\n",
       "      <th>4</th>\n",
       "      <td>FMCG BRAND</td>\n",
       "      <td>111.0</td>\n",
       "      <td>No</td>\n",
       "      <td>CMHOSTR01-2256825</td>\n",
       "      <td>C800062</td>\n",
       "      <td>Newmarket Stock Point</td>\n",
       "      <td>Accoessories</td>\n",
       "      <td>Gift &amp; Novelties</td>\n",
       "      <td>Dry Flower</td>\n",
       "      <td>1.0</td>\n",
       "      <td>139.0</td>\n",
       "      <td>65.00</td>\n",
       "      <td>01-11-2023</td>\n",
       "    </tr>\n",
       "  </tbody>\n",
       "</table>\n",
       "</div>"
      ],
      "text/plain": [
       "             Salesman  Salesman No Is Void                POS  Barcode  \\\n",
       "0  NITESH KUMAR SINGH         36.0      No   CMHOSTR03-999288  C802999   \n",
       "1  LALIT AGARWAL (PS)         73.0      No   CMHOSTR04-462155  C793771   \n",
       "2          PUJA PASHI         34.0      No   CMHOSTR03-999258  C802984   \n",
       "3  BAPI TARAFDER (PS)         14.0      No   CMHOSTR04-462175  C766996   \n",
       "4          FMCG BRAND        111.0      No  CMHOSTR01-2256825  C800062   \n",
       "\n",
       "                   Store      Division           Section      Department  \\\n",
       "0   Hatibagan Stockpoint  Accoessories  Gift & Novelties  Baby Accessory   \n",
       "1    Garihat Stock Point  Accoessories  Gift & Novelties  Baby Accessory   \n",
       "2   Hatibagan Stockpoint  Accoessories  Gift & Novelties  Baby Accessory   \n",
       "3    Garihat Stock Point  Accoessories  Gift & Novelties           Books   \n",
       "4  Newmarket Stock Point  Accoessories  Gift & Novelties      Dry Flower   \n",
       "\n",
       "   Sale Qty  Net Amt    Rate   Bill Date  \n",
       "0       1.0     55.0   34.96  01-11-2023  \n",
       "1       1.0     99.0   48.66  01-11-2023  \n",
       "2       2.0    398.0  103.06  01-11-2023  \n",
       "3       1.0    150.0  112.50  01-11-2023  \n",
       "4       1.0    139.0   65.00  01-11-2023  "
      ]
     },
     "execution_count": 142,
     "metadata": {},
     "output_type": "execute_result"
    }
   ],
   "source": [
    "emp.head()"
   ]
  },
  {
   "cell_type": "code",
   "execution_count": 143,
   "id": "4ef7fb03",
   "metadata": {},
   "outputs": [],
   "source": [
    "grouped = emp.groupby(emp.Store)"
   ]
  },
  {
   "cell_type": "code",
   "execution_count": 144,
   "id": "ce9704d0",
   "metadata": {},
   "outputs": [
    {
     "data": {
      "text/plain": [
       "array(['Hatibagan Stockpoint', 'Garihat Stock Point',\n",
       "       'Newmarket Stock Point', 'Megashop Stock', nan], dtype=object)"
      ]
     },
     "execution_count": 144,
     "metadata": {},
     "output_type": "execute_result"
    }
   ],
   "source": [
    "emp.Store.unique()"
   ]
  },
  {
   "cell_type": "code",
   "execution_count": 145,
   "id": "112a08f8",
   "metadata": {},
   "outputs": [],
   "source": [
    "emp_hatibagan = grouped.get_group(\"Hatibagan Stockpoint\")\n",
    "emp_lighthouse = grouped.get_group(\"Newmarket Stock Point\")\n",
    "emp_chowrunghee = grouped.get_group(\"Megashop Stock\")"
   ]
  },
  {
   "cell_type": "code",
   "execution_count": 146,
   "id": "51a1d465",
   "metadata": {},
   "outputs": [
    {
     "name": "stdout",
     "output_type": "stream",
     "text": [
      "478\n"
     ]
    }
   ],
   "source": [
    "l = emp_hatibagan.Department.nunique()\n",
    "print(l)"
   ]
  },
  {
   "cell_type": "code",
   "execution_count": 147,
   "id": "f47c26cf",
   "metadata": {},
   "outputs": [],
   "source": [
    "df = emp_hatibagan.groupby('Salesman').agg(Lines=('Department', 'nunique'), Total_Qty=('Sale Qty', 'sum'), \n",
    "                                            Sale_Amt=('Net Amt', 'sum'))"
   ]
  },
  {
   "cell_type": "code",
   "execution_count": 148,
   "id": "9d5514e3",
   "metadata": {},
   "outputs": [
    {
     "data": {
      "text/html": [
       "<div>\n",
       "<style scoped>\n",
       "    .dataframe tbody tr th:only-of-type {\n",
       "        vertical-align: middle;\n",
       "    }\n",
       "\n",
       "    .dataframe tbody tr th {\n",
       "        vertical-align: top;\n",
       "    }\n",
       "\n",
       "    .dataframe thead th {\n",
       "        text-align: right;\n",
       "    }\n",
       "</style>\n",
       "<table border=\"1\" class=\"dataframe\">\n",
       "  <thead>\n",
       "    <tr style=\"text-align: right;\">\n",
       "      <th></th>\n",
       "      <th>Lines</th>\n",
       "      <th>Total_Qty</th>\n",
       "      <th>Sale_Amt</th>\n",
       "    </tr>\n",
       "    <tr>\n",
       "      <th>Salesman</th>\n",
       "      <th></th>\n",
       "      <th></th>\n",
       "      <th></th>\n",
       "    </tr>\n",
       "  </thead>\n",
       "  <tbody>\n",
       "    <tr>\n",
       "      <th>ANUSHMITA PAUL</th>\n",
       "      <td>6</td>\n",
       "      <td>11.0</td>\n",
       "      <td>3096.00</td>\n",
       "    </tr>\n",
       "    <tr>\n",
       "      <th>ARDHENDU kr SARDAR</th>\n",
       "      <td>3</td>\n",
       "      <td>3.0</td>\n",
       "      <td>925.00</td>\n",
       "    </tr>\n",
       "    <tr>\n",
       "      <th>ARINDAM BOSE</th>\n",
       "      <td>111</td>\n",
       "      <td>1225.0</td>\n",
       "      <td>457399.06</td>\n",
       "    </tr>\n",
       "    <tr>\n",
       "      <th>BAISHALI DAS</th>\n",
       "      <td>237</td>\n",
       "      <td>2625.0</td>\n",
       "      <td>961271.20</td>\n",
       "    </tr>\n",
       "    <tr>\n",
       "      <th>Blank / Brand</th>\n",
       "      <td>1</td>\n",
       "      <td>1.0</td>\n",
       "      <td>999.00</td>\n",
       "    </tr>\n",
       "  </tbody>\n",
       "</table>\n",
       "</div>"
      ],
      "text/plain": [
       "                    Lines  Total_Qty   Sale_Amt\n",
       "Salesman                                       \n",
       "ANUSHMITA PAUL          6       11.0    3096.00\n",
       "ARDHENDU kr SARDAR      3        3.0     925.00\n",
       "ARINDAM BOSE          111     1225.0  457399.06\n",
       "BAISHALI DAS          237     2625.0  961271.20\n",
       "Blank / Brand           1        1.0     999.00"
      ]
     },
     "execution_count": 148,
     "metadata": {},
     "output_type": "execute_result"
    }
   ],
   "source": [
    "df.head()"
   ]
  },
  {
   "cell_type": "code",
   "execution_count": 149,
   "id": "29d1d433",
   "metadata": {},
   "outputs": [
    {
     "data": {
      "text/plain": [
       "14830190.04"
      ]
     },
     "execution_count": 149,
     "metadata": {},
     "output_type": "execute_result"
    }
   ],
   "source": [
    "s = df.Sale_Amt.sum()\n",
    "s"
   ]
  },
  {
   "cell_type": "code",
   "execution_count": 150,
   "id": "f08c2aa3",
   "metadata": {},
   "outputs": [
    {
     "name": "stdout",
     "output_type": "stream",
     "text": [
      "60211.0\n"
     ]
    }
   ],
   "source": [
    "q = df.Total_Qty.sum()\n",
    "print(q)"
   ]
  },
  {
   "cell_type": "code",
   "execution_count": 151,
   "id": "022a0e40",
   "metadata": {},
   "outputs": [],
   "source": [
    "df['percent_of_Sales_amt']= df['Sale_Amt']/s *100\n",
    "df['percentage_Qty'] = df['Total_Qty']/q *100\n",
    "df['percentage_lines'] = df['Lines']/l *100"
   ]
  },
  {
   "cell_type": "code",
   "execution_count": 152,
   "id": "5325d49e",
   "metadata": {},
   "outputs": [
    {
     "data": {
      "text/html": [
       "<div>\n",
       "<style scoped>\n",
       "    .dataframe tbody tr th:only-of-type {\n",
       "        vertical-align: middle;\n",
       "    }\n",
       "\n",
       "    .dataframe tbody tr th {\n",
       "        vertical-align: top;\n",
       "    }\n",
       "\n",
       "    .dataframe thead th {\n",
       "        text-align: right;\n",
       "    }\n",
       "</style>\n",
       "<table border=\"1\" class=\"dataframe\">\n",
       "  <thead>\n",
       "    <tr style=\"text-align: right;\">\n",
       "      <th></th>\n",
       "      <th>Lines</th>\n",
       "      <th>Total_Qty</th>\n",
       "      <th>Sale_Amt</th>\n",
       "      <th>percent_of_Sales_amt</th>\n",
       "      <th>percentage_Qty</th>\n",
       "      <th>percentage_lines</th>\n",
       "    </tr>\n",
       "    <tr>\n",
       "      <th>Salesman</th>\n",
       "      <th></th>\n",
       "      <th></th>\n",
       "      <th></th>\n",
       "      <th></th>\n",
       "      <th></th>\n",
       "      <th></th>\n",
       "    </tr>\n",
       "  </thead>\n",
       "  <tbody>\n",
       "    <tr>\n",
       "      <th>ANUSHMITA PAUL</th>\n",
       "      <td>6</td>\n",
       "      <td>11.0</td>\n",
       "      <td>3096.00</td>\n",
       "      <td>0.020876</td>\n",
       "      <td>0.018269</td>\n",
       "      <td>1.255230</td>\n",
       "    </tr>\n",
       "    <tr>\n",
       "      <th>ARDHENDU kr SARDAR</th>\n",
       "      <td>3</td>\n",
       "      <td>3.0</td>\n",
       "      <td>925.00</td>\n",
       "      <td>0.006237</td>\n",
       "      <td>0.004982</td>\n",
       "      <td>0.627615</td>\n",
       "    </tr>\n",
       "    <tr>\n",
       "      <th>ARINDAM BOSE</th>\n",
       "      <td>111</td>\n",
       "      <td>1225.0</td>\n",
       "      <td>457399.06</td>\n",
       "      <td>3.084243</td>\n",
       "      <td>2.034512</td>\n",
       "      <td>23.221757</td>\n",
       "    </tr>\n",
       "    <tr>\n",
       "      <th>BAISHALI DAS</th>\n",
       "      <td>237</td>\n",
       "      <td>2625.0</td>\n",
       "      <td>961271.20</td>\n",
       "      <td>6.481854</td>\n",
       "      <td>4.359668</td>\n",
       "      <td>49.581590</td>\n",
       "    </tr>\n",
       "    <tr>\n",
       "      <th>Blank / Brand</th>\n",
       "      <td>1</td>\n",
       "      <td>1.0</td>\n",
       "      <td>999.00</td>\n",
       "      <td>0.006736</td>\n",
       "      <td>0.001661</td>\n",
       "      <td>0.209205</td>\n",
       "    </tr>\n",
       "  </tbody>\n",
       "</table>\n",
       "</div>"
      ],
      "text/plain": [
       "                    Lines  Total_Qty   Sale_Amt  percent_of_Sales_amt  \\\n",
       "Salesman                                                                \n",
       "ANUSHMITA PAUL          6       11.0    3096.00              0.020876   \n",
       "ARDHENDU kr SARDAR      3        3.0     925.00              0.006237   \n",
       "ARINDAM BOSE          111     1225.0  457399.06              3.084243   \n",
       "BAISHALI DAS          237     2625.0  961271.20              6.481854   \n",
       "Blank / Brand           1        1.0     999.00              0.006736   \n",
       "\n",
       "                    percentage_Qty  percentage_lines  \n",
       "Salesman                                              \n",
       "ANUSHMITA PAUL            0.018269          1.255230  \n",
       "ARDHENDU kr SARDAR        0.004982          0.627615  \n",
       "ARINDAM BOSE              2.034512         23.221757  \n",
       "BAISHALI DAS              4.359668         49.581590  \n",
       "Blank / Brand             0.001661          0.209205  "
      ]
     },
     "execution_count": 152,
     "metadata": {},
     "output_type": "execute_result"
    }
   ],
   "source": [
    "df.head()"
   ]
  },
  {
   "cell_type": "code",
   "execution_count": 153,
   "id": "64f9ccce",
   "metadata": {},
   "outputs": [
    {
     "data": {
      "text/plain": [
       "100.00000000000001"
      ]
     },
     "execution_count": 153,
     "metadata": {},
     "output_type": "execute_result"
    }
   ],
   "source": [
    "df.percentage_Qty.sum()"
   ]
  },
  {
   "cell_type": "code",
   "execution_count": 154,
   "id": "a6372ee9",
   "metadata": {},
   "outputs": [],
   "source": [
    "df['Score'] = (0.50 * df['percent_of_Sales_amt']) + (0.25 * df['percentage_Qty']) + (0.25 * df['percentage_lines'])"
   ]
  },
  {
   "cell_type": "code",
   "execution_count": 155,
   "id": "cdba1e72",
   "metadata": {},
   "outputs": [
    {
     "data": {
      "text/html": [
       "<div>\n",
       "<style scoped>\n",
       "    .dataframe tbody tr th:only-of-type {\n",
       "        vertical-align: middle;\n",
       "    }\n",
       "\n",
       "    .dataframe tbody tr th {\n",
       "        vertical-align: top;\n",
       "    }\n",
       "\n",
       "    .dataframe thead th {\n",
       "        text-align: right;\n",
       "    }\n",
       "</style>\n",
       "<table border=\"1\" class=\"dataframe\">\n",
       "  <thead>\n",
       "    <tr style=\"text-align: right;\">\n",
       "      <th></th>\n",
       "      <th>Lines</th>\n",
       "      <th>Total_Qty</th>\n",
       "      <th>Sale_Amt</th>\n",
       "      <th>percent_of_Sales_amt</th>\n",
       "      <th>percentage_Qty</th>\n",
       "      <th>percentage_lines</th>\n",
       "      <th>Score</th>\n",
       "    </tr>\n",
       "    <tr>\n",
       "      <th>Salesman</th>\n",
       "      <th></th>\n",
       "      <th></th>\n",
       "      <th></th>\n",
       "      <th></th>\n",
       "      <th></th>\n",
       "      <th></th>\n",
       "      <th></th>\n",
       "    </tr>\n",
       "  </thead>\n",
       "  <tbody>\n",
       "    <tr>\n",
       "      <th>ANUSHMITA PAUL</th>\n",
       "      <td>6</td>\n",
       "      <td>11.0</td>\n",
       "      <td>3096.00</td>\n",
       "      <td>0.020876</td>\n",
       "      <td>0.018269</td>\n",
       "      <td>1.255230</td>\n",
       "      <td>0.328813</td>\n",
       "    </tr>\n",
       "    <tr>\n",
       "      <th>ARDHENDU kr SARDAR</th>\n",
       "      <td>3</td>\n",
       "      <td>3.0</td>\n",
       "      <td>925.00</td>\n",
       "      <td>0.006237</td>\n",
       "      <td>0.004982</td>\n",
       "      <td>0.627615</td>\n",
       "      <td>0.161268</td>\n",
       "    </tr>\n",
       "    <tr>\n",
       "      <th>ARINDAM BOSE</th>\n",
       "      <td>111</td>\n",
       "      <td>1225.0</td>\n",
       "      <td>457399.06</td>\n",
       "      <td>3.084243</td>\n",
       "      <td>2.034512</td>\n",
       "      <td>23.221757</td>\n",
       "      <td>7.856189</td>\n",
       "    </tr>\n",
       "    <tr>\n",
       "      <th>BAISHALI DAS</th>\n",
       "      <td>237</td>\n",
       "      <td>2625.0</td>\n",
       "      <td>961271.20</td>\n",
       "      <td>6.481854</td>\n",
       "      <td>4.359668</td>\n",
       "      <td>49.581590</td>\n",
       "      <td>16.726241</td>\n",
       "    </tr>\n",
       "    <tr>\n",
       "      <th>Blank / Brand</th>\n",
       "      <td>1</td>\n",
       "      <td>1.0</td>\n",
       "      <td>999.00</td>\n",
       "      <td>0.006736</td>\n",
       "      <td>0.001661</td>\n",
       "      <td>0.209205</td>\n",
       "      <td>0.056085</td>\n",
       "    </tr>\n",
       "  </tbody>\n",
       "</table>\n",
       "</div>"
      ],
      "text/plain": [
       "                    Lines  Total_Qty   Sale_Amt  percent_of_Sales_amt  \\\n",
       "Salesman                                                                \n",
       "ANUSHMITA PAUL          6       11.0    3096.00              0.020876   \n",
       "ARDHENDU kr SARDAR      3        3.0     925.00              0.006237   \n",
       "ARINDAM BOSE          111     1225.0  457399.06              3.084243   \n",
       "BAISHALI DAS          237     2625.0  961271.20              6.481854   \n",
       "Blank / Brand           1        1.0     999.00              0.006736   \n",
       "\n",
       "                    percentage_Qty  percentage_lines      Score  \n",
       "Salesman                                                         \n",
       "ANUSHMITA PAUL            0.018269          1.255230   0.328813  \n",
       "ARDHENDU kr SARDAR        0.004982          0.627615   0.161268  \n",
       "ARINDAM BOSE              2.034512         23.221757   7.856189  \n",
       "BAISHALI DAS              4.359668         49.581590  16.726241  \n",
       "Blank / Brand             0.001661          0.209205   0.056085  "
      ]
     },
     "execution_count": 155,
     "metadata": {},
     "output_type": "execute_result"
    }
   ],
   "source": [
    "df.head()"
   ]
  },
  {
   "cell_type": "code",
   "execution_count": 156,
   "id": "4ee78b89",
   "metadata": {},
   "outputs": [
    {
     "data": {
      "text/plain": [
       "290.84728033472805"
      ]
     },
     "execution_count": 156,
     "metadata": {},
     "output_type": "execute_result"
    }
   ],
   "source": [
    "df.Score.sum()"
   ]
  },
  {
   "cell_type": "code",
   "execution_count": 157,
   "id": "7f6090c0",
   "metadata": {},
   "outputs": [
    {
     "data": {
      "text/plain": [
       "863.389121338912"
      ]
     },
     "execution_count": 157,
     "metadata": {},
     "output_type": "execute_result"
    }
   ],
   "source": [
    "df.percentage_lines.sum()"
   ]
  },
  {
   "cell_type": "code",
   "execution_count": 158,
   "id": "bf30fea9",
   "metadata": {},
   "outputs": [
    {
     "data": {
      "text/plain": [
       "100.00000000000001"
      ]
     },
     "execution_count": 158,
     "metadata": {},
     "output_type": "execute_result"
    }
   ],
   "source": [
    "df.percentage_Qty.sum()"
   ]
  },
  {
   "cell_type": "code",
   "execution_count": 159,
   "id": "b27591bf",
   "metadata": {},
   "outputs": [
    {
     "data": {
      "text/plain": [
       "100.0"
      ]
     },
     "execution_count": 159,
     "metadata": {},
     "output_type": "execute_result"
    }
   ],
   "source": [
    "df.percent_of_Sales_amt.sum()"
   ]
  },
  {
   "cell_type": "code",
   "execution_count": 160,
   "id": "5cbd0172",
   "metadata": {},
   "outputs": [],
   "source": [
    "df = df.sort_values('Score' , ascending = False)"
   ]
  },
  {
   "cell_type": "code",
   "execution_count": 161,
   "id": "96146371",
   "metadata": {},
   "outputs": [
    {
     "data": {
      "text/html": [
       "<div>\n",
       "<style scoped>\n",
       "    .dataframe tbody tr th:only-of-type {\n",
       "        vertical-align: middle;\n",
       "    }\n",
       "\n",
       "    .dataframe tbody tr th {\n",
       "        vertical-align: top;\n",
       "    }\n",
       "\n",
       "    .dataframe thead th {\n",
       "        text-align: right;\n",
       "    }\n",
       "</style>\n",
       "<table border=\"1\" class=\"dataframe\">\n",
       "  <thead>\n",
       "    <tr style=\"text-align: right;\">\n",
       "      <th></th>\n",
       "      <th>Lines</th>\n",
       "      <th>Total_Qty</th>\n",
       "      <th>Sale_Amt</th>\n",
       "      <th>percent_of_Sales_amt</th>\n",
       "      <th>percentage_Qty</th>\n",
       "      <th>percentage_lines</th>\n",
       "      <th>Score</th>\n",
       "    </tr>\n",
       "    <tr>\n",
       "      <th>Salesman</th>\n",
       "      <th></th>\n",
       "      <th></th>\n",
       "      <th></th>\n",
       "      <th></th>\n",
       "      <th></th>\n",
       "      <th></th>\n",
       "      <th></th>\n",
       "    </tr>\n",
       "  </thead>\n",
       "  <tbody>\n",
       "    <tr>\n",
       "      <th>PUJA PASHI</th>\n",
       "      <td>328</td>\n",
       "      <td>9128.0</td>\n",
       "      <td>1192105.63</td>\n",
       "      <td>8.038371</td>\n",
       "      <td>15.160021</td>\n",
       "      <td>68.619247</td>\n",
       "      <td>24.964002</td>\n",
       "    </tr>\n",
       "    <tr>\n",
       "      <th>subrata das</th>\n",
       "      <td>255</td>\n",
       "      <td>10720.0</td>\n",
       "      <td>833278.70</td>\n",
       "      <td>5.618800</td>\n",
       "      <td>17.804056</td>\n",
       "      <td>53.347280</td>\n",
       "      <td>20.597234</td>\n",
       "    </tr>\n",
       "    <tr>\n",
       "      <th>PAMPA PAUL SHOW</th>\n",
       "      <td>295</td>\n",
       "      <td>3726.0</td>\n",
       "      <td>951332.05</td>\n",
       "      <td>6.414834</td>\n",
       "      <td>6.188238</td>\n",
       "      <td>61.715481</td>\n",
       "      <td>20.183347</td>\n",
       "    </tr>\n",
       "    <tr>\n",
       "      <th>SUMIT BISWAS</th>\n",
       "      <td>269</td>\n",
       "      <td>3241.0</td>\n",
       "      <td>730652.71</td>\n",
       "      <td>4.926793</td>\n",
       "      <td>5.382737</td>\n",
       "      <td>56.276151</td>\n",
       "      <td>17.878118</td>\n",
       "    </tr>\n",
       "    <tr>\n",
       "      <th>SANCHALI MAITY</th>\n",
       "      <td>258</td>\n",
       "      <td>2395.0</td>\n",
       "      <td>854948.65</td>\n",
       "      <td>5.764920</td>\n",
       "      <td>3.977678</td>\n",
       "      <td>53.974895</td>\n",
       "      <td>17.370604</td>\n",
       "    </tr>\n",
       "  </tbody>\n",
       "</table>\n",
       "</div>"
      ],
      "text/plain": [
       "                 Lines  Total_Qty    Sale_Amt  percent_of_Sales_amt  \\\n",
       "Salesman                                                              \n",
       "PUJA PASHI         328     9128.0  1192105.63              8.038371   \n",
       "subrata das        255    10720.0   833278.70              5.618800   \n",
       "PAMPA PAUL SHOW    295     3726.0   951332.05              6.414834   \n",
       "SUMIT BISWAS       269     3241.0   730652.71              4.926793   \n",
       "SANCHALI MAITY     258     2395.0   854948.65              5.764920   \n",
       "\n",
       "                 percentage_Qty  percentage_lines      Score  \n",
       "Salesman                                                      \n",
       "PUJA PASHI            15.160021         68.619247  24.964002  \n",
       "subrata das           17.804056         53.347280  20.597234  \n",
       "PAMPA PAUL SHOW        6.188238         61.715481  20.183347  \n",
       "SUMIT BISWAS           5.382737         56.276151  17.878118  \n",
       "SANCHALI MAITY         3.977678         53.974895  17.370604  "
      ]
     },
     "execution_count": 161,
     "metadata": {},
     "output_type": "execute_result"
    }
   ],
   "source": [
    "df.head()"
   ]
  },
  {
   "cell_type": "code",
   "execution_count": 162,
   "id": "bd6b32e9",
   "metadata": {},
   "outputs": [],
   "source": [
    "df.to_excel('Hatibagan_employee.xlsx')"
   ]
  },
  {
   "cell_type": "code",
   "execution_count": null,
   "id": "b0d4d7cc",
   "metadata": {},
   "outputs": [],
   "source": []
  }
 ],
 "metadata": {
  "kernelspec": {
   "display_name": "Python 3 (ipykernel)",
   "language": "python",
   "name": "python3"
  },
  "language_info": {
   "codemirror_mode": {
    "name": "ipython",
    "version": 3
   },
   "file_extension": ".py",
   "mimetype": "text/x-python",
   "name": "python",
   "nbconvert_exporter": "python",
   "pygments_lexer": "ipython3",
   "version": "3.11.5"
  }
 },
 "nbformat": 4,
 "nbformat_minor": 5
}
